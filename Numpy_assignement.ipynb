{
  "nbformat": 4,
  "nbformat_minor": 0,
  "metadata": {
    "colab": {
      "provenance": []
    },
    "kernelspec": {
      "name": "python3",
      "display_name": "Python 3"
    },
    "language_info": {
      "name": "python"
    }
  },
  "cells": [
    {
      "cell_type": "markdown",
      "source": [
        "import numpy as np\n",
        "\n",
        "list_ = [ ‘1’ , ’2’ , ‘3’ , ‘4’ , ‘5’ ]\n",
        "\n",
        "array_list = np.array(object = list_)\n",
        "\n",
        "Q1. Is there any difference in the data type of variables list_ and array_list? If there is then write a code\n",
        "to print the data types of both the variables.\n"
      ],
      "metadata": {
        "id": "53tlXRA6qCpZ"
      }
    },
    {
      "cell_type": "code",
      "source": [
        "import numpy as np\n",
        "\n",
        "list_ = [ '1','2','3','4','5' ]\n",
        "\n",
        "array_list = np.array(object = list_)"
      ],
      "metadata": {
        "id": "5lpcdBybqFxx"
      },
      "execution_count": 28,
      "outputs": []
    },
    {
      "cell_type": "markdown",
      "source": [
        "list_ is a list structure while array_list is an array"
      ],
      "metadata": {
        "id": "pFZIun4vGN0T"
      }
    },
    {
      "cell_type": "code",
      "source": [
        "type(list_)"
      ],
      "metadata": {
        "colab": {
          "base_uri": "https://localhost:8080/"
        },
        "id": "MbSNtDQCqo1Z",
        "outputId": "c84f518b-a0a1-4558-8c4c-f0b424f5005c"
      },
      "execution_count": 23,
      "outputs": [
        {
          "output_type": "execute_result",
          "data": {
            "text/plain": [
              "list"
            ]
          },
          "metadata": {},
          "execution_count": 23
        }
      ]
    },
    {
      "cell_type": "code",
      "source": [
        "type(array_list)"
      ],
      "metadata": {
        "colab": {
          "base_uri": "https://localhost:8080/"
        },
        "id": "hfgWXj33q8w1",
        "outputId": "28be28c7-5186-44d5-8fb8-ca414729b272"
      },
      "execution_count": 24,
      "outputs": [
        {
          "output_type": "execute_result",
          "data": {
            "text/plain": [
              "numpy.ndarray"
            ]
          },
          "metadata": {},
          "execution_count": 24
        }
      ]
    },
    {
      "cell_type": "code",
      "source": [
        "for i in list_:\n",
        "  print(f'Data type for {i} is {type(i)}')\n",
        "\n",
        "for j in range(0,len(array_list)):\n",
        "  print(f'Data type for {array_list[j]} from array_list is {type(array_list[j])}')"
      ],
      "metadata": {
        "colab": {
          "base_uri": "https://localhost:8080/"
        },
        "id": "_UlXKd9FrATU",
        "outputId": "85fc654c-1dd6-4073-933a-1c8fc085cb92"
      },
      "execution_count": 29,
      "outputs": [
        {
          "output_type": "stream",
          "name": "stdout",
          "text": [
            "Data type for 1 is <class 'str'>\n",
            "Data type for 2 is <class 'str'>\n",
            "Data type for 3 is <class 'str'>\n",
            "Data type for 4 is <class 'str'>\n",
            "Data type for 5 is <class 'str'>\n",
            "Data type for 1 from array_list is <class 'numpy.str_'>\n",
            "Data type for 2 from array_list is <class 'numpy.str_'>\n",
            "Data type for 3 from array_list is <class 'numpy.str_'>\n",
            "Data type for 4 from array_list is <class 'numpy.str_'>\n",
            "Data type for 5 from array_list is <class 'numpy.str_'>\n"
          ]
        }
      ]
    },
    {
      "cell_type": "markdown",
      "source": [
        "Q3. Considering the following changes in the variable, array_list:\n",
        "\n",
        "array_list = np.array(object = list_, dtype = int)\n",
        "\n",
        "Will there be any difference in the data type of the elements present in both the variables, list_ and arra_list? If so then print the data types of each and every element present in both the variables, list_ and arra_list.\n"
      ],
      "metadata": {
        "id": "oKYvghLfGCK7"
      }
    },
    {
      "cell_type": "code",
      "source": [
        "array_list = np.array(object = list_, dtype = int)"
      ],
      "metadata": {
        "id": "_DJZFqiTEoe5"
      },
      "execution_count": 30,
      "outputs": []
    },
    {
      "cell_type": "markdown",
      "source": [
        "Above expression will change the elements of array_list to int rather than string. We will try to print out below:"
      ],
      "metadata": {
        "id": "qG5iOMn0StW4"
      }
    },
    {
      "cell_type": "code",
      "source": [
        "for i in list_:\n",
        "  print(f'Data type for {i} is {type(i)}')\n",
        "\n",
        "for j in range(0,len(array_list)):\n",
        "  print(f'Data type for {array_list[j]} from array_list is {type(array_list[j])}')"
      ],
      "metadata": {
        "colab": {
          "base_uri": "https://localhost:8080/"
        },
        "id": "CaReQvFpQ5eC",
        "outputId": "80ab56e2-7088-486f-d306-7fcd6b0997a0"
      },
      "execution_count": 31,
      "outputs": [
        {
          "output_type": "stream",
          "name": "stdout",
          "text": [
            "Data type for 1 is <class 'str'>\n",
            "Data type for 2 is <class 'str'>\n",
            "Data type for 3 is <class 'str'>\n",
            "Data type for 4 is <class 'str'>\n",
            "Data type for 5 is <class 'str'>\n",
            "Data type for 1 from array_list is <class 'numpy.int64'>\n",
            "Data type for 2 from array_list is <class 'numpy.int64'>\n",
            "Data type for 3 from array_list is <class 'numpy.int64'>\n",
            "Data type for 4 from array_list is <class 'numpy.int64'>\n",
            "Data type for 5 from array_list is <class 'numpy.int64'>\n"
          ]
        }
      ]
    },
    {
      "cell_type": "markdown",
      "source": [
        "Consider the below code to answer further questions:"
      ],
      "metadata": {
        "id": "CjTZoveETIIV"
      }
    },
    {
      "cell_type": "code",
      "source": [
        "import numpy as np\n",
        "\n",
        "num_list = [ [ 1 , 2 , 3 ] , [ 4 , 5 , 6 ] ]\n",
        "\n",
        "num_array = np.array(object = num_list)"
      ],
      "metadata": {
        "id": "cRynIERASqb7"
      },
      "execution_count": 32,
      "outputs": []
    },
    {
      "cell_type": "markdown",
      "source": [
        "Q4. Write a code to find the following characteristics of variable, num_array:\n",
        "\n",
        "1. shape\n",
        "2. size"
      ],
      "metadata": {
        "id": "7K5mLDSpTU8s"
      }
    },
    {
      "cell_type": "code",
      "source": [
        "num_array.shape"
      ],
      "metadata": {
        "colab": {
          "base_uri": "https://localhost:8080/"
        },
        "id": "2eXrNUmuTbjO",
        "outputId": "9287832e-9fd8-4658-a14b-0aa6f00b152b"
      },
      "execution_count": 34,
      "outputs": [
        {
          "output_type": "execute_result",
          "data": {
            "text/plain": [
              "(2, 3)"
            ]
          },
          "metadata": {},
          "execution_count": 34
        }
      ]
    },
    {
      "cell_type": "code",
      "source": [
        "num_array.size"
      ],
      "metadata": {
        "colab": {
          "base_uri": "https://localhost:8080/"
        },
        "id": "6jWC8CzgTejG",
        "outputId": "4779f7fc-8b22-484b-9c13-4f70e4db12fd"
      },
      "execution_count": 35,
      "outputs": [
        {
          "output_type": "execute_result",
          "data": {
            "text/plain": [
              "6"
            ]
          },
          "metadata": {},
          "execution_count": 35
        }
      ]
    },
    {
      "cell_type": "markdown",
      "source": [
        "Q5. Write a code to create numpy array of 3*3 matrix containing zeros only, using a numpy array creation function.\n"
      ],
      "metadata": {
        "id": "T0_YUlyrTpw2"
      }
    },
    {
      "cell_type": "code",
      "source": [
        "az = np.zeros((3,3))\n",
        "az"
      ],
      "metadata": {
        "colab": {
          "base_uri": "https://localhost:8080/"
        },
        "id": "A_I0Z1EDTjJy",
        "outputId": "f1547fd6-ed73-4c8d-c4be-aaaf332f850b"
      },
      "execution_count": 41,
      "outputs": [
        {
          "output_type": "execute_result",
          "data": {
            "text/plain": [
              "array([[0., 0., 0.],\n",
              "       [0., 0., 0.],\n",
              "       [0., 0., 0.]])"
            ]
          },
          "metadata": {},
          "execution_count": 41
        }
      ]
    },
    {
      "cell_type": "markdown",
      "source": [
        "6. Create an identity matrix of shape (5*5) using numpy functions."
      ],
      "metadata": {
        "id": "AZOlOydCfbig"
      }
    },
    {
      "cell_type": "code",
      "source": [
        "ai = np.eye(5)\n",
        "ai"
      ],
      "metadata": {
        "colab": {
          "base_uri": "https://localhost:8080/"
        },
        "id": "IGB5S_cMfCOE",
        "outputId": "764c603a-d4c0-409c-ffb3-4e8a3e6a70fd"
      },
      "execution_count": 43,
      "outputs": [
        {
          "output_type": "execute_result",
          "data": {
            "text/plain": [
              "array([[1., 0., 0., 0., 0.],\n",
              "       [0., 1., 0., 0., 0.],\n",
              "       [0., 0., 1., 0., 0.],\n",
              "       [0., 0., 0., 1., 0.],\n",
              "       [0., 0., 0., 0., 1.]])"
            ]
          },
          "metadata": {},
          "execution_count": 43
        }
      ]
    },
    {
      "cell_type": "code",
      "source": [],
      "metadata": {
        "id": "CzUIG0WDftWl"
      },
      "execution_count": null,
      "outputs": []
    }
  ]
}